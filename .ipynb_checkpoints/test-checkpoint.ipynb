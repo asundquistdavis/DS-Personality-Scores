{
 "cells": [
  {
   "cell_type": "code",
   "execution_count": 2,
   "id": "78308ece",
   "metadata": {},
   "outputs": [],
   "source": [
    "import pandas as pd\n",
    "import random as r"
   ]
  },
  {
   "cell_type": "code",
   "execution_count": 5,
   "id": "88caa179",
   "metadata": {},
   "outputs": [],
   "source": [
    "with open('test.csv', 'w', newline='') as csvfile:\n",
    "    csvwriter = csv.writer(csvfile, delimiter=' ')\n",
    "    for i in range(100):\n",
    "        att = round(100*r.random())\n",
    "        fn1 = round(100*r.random())\n",
    "        fn2 = round(100*r.random())\n",
    "        lst = round(100*r.random())\n",
    "        import csv\n",
    "        csvwriter.writerow(f'{att},{fn1},{fn2},{lst}')"
   ]
  },
  {
   "cell_type": "code",
   "execution_count": null,
   "id": "3c636bb7",
   "metadata": {},
   "outputs": [],
   "source": []
  }
 ],
 "metadata": {
  "kernelspec": {
   "display_name": "Python 3 (ipykernel)",
   "language": "python",
   "name": "python3"
  },
  "language_info": {
   "codemirror_mode": {
    "name": "ipython",
    "version": 3
   },
   "file_extension": ".py",
   "mimetype": "text/x-python",
   "name": "python",
   "nbconvert_exporter": "python",
   "pygments_lexer": "ipython3",
   "version": "3.8.13"
  }
 },
 "nbformat": 4,
 "nbformat_minor": 5
}
