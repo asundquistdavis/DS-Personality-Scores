{
 "cells": [
  {
   "cell_type": "code",
   "execution_count": null,
   "id": "78308ece",
   "metadata": {},
   "outputs": [],
   "source": [
    "import pandas as pd\n",
    "import random as r\n",
    "import csv\n",
    "from matplotlib import pyplot as plt"
   ]
  },
  {
   "cell_type": "code",
   "execution_count": null,
   "id": "88caa179",
   "metadata": {},
   "outputs": [],
   "source": [
    "atts = ['I', 'E']\n",
    "fn1s = ['N', 'S']\n",
    "fn2s = ['T', 'F']\n",
    "lsts = ['P', 'J']\n",
    "with open('../Resources/test.csv', 'w', newline='') as csvfile:\n",
    "    csvwriter = csv.writer(csvfile, delimiter=',')\n",
    "    csvwriter.writerow(['attribute', 'attribute score', 'function 1', 'function 1 score', 'function 2', 'function 2 score', 'lifestyle', 'lifestyle score'])\n",
    "    for i in range(100):\n",
    "        att = r.choice(atts)\n",
    "        attv = round(100*r.random())\n",
    "        fn1 = r.choice(fn1s)\n",
    "        fn1v = round(100*r.random())\n",
    "        fn2 = r.choice(fn2s)\n",
    "        fn2v = round(100*r.random())\n",
    "        lst = r.choice(lsts)\n",
    "        lstv = round(100*r.random())\n",
    "        csvwriter.writerow([att, attv, fn1, fn1v, fn2, fn2v, lst, lstv])"
   ]
  },
  {
   "cell_type": "code",
   "execution_count": null,
   "id": "3c636bb7",
   "metadata": {},
   "outputs": [],
   "source": [
    "test_df = pd.read_csv('../Resources/test.csv')\n",
    "test_df.head()"
   ]
  },
  {
   "cell_type": "code",
   "execution_count": null,
   "id": "829d4fe1",
   "metadata": {},
   "outputs": [],
   "source": [
    "values_df = pd.DataFrame()\n",
    "values_df['attribute_value'] = test_df['attribute'].map({'E': 1, 'I': -1})*test_df['attribute score']\n",
    "values_df['function_1_value'] = test_df['function 1'].map({'N': 1, 'S': -1})*test_df['function 1 score']\n",
    "values_df['function_2_value'] = test_df['function 2'].map({'F': 1, 'T': -1})*test_df['function 2 score']\n",
    "values_df['lifestyle_value'] = test_df['lifestyle'].map({'J': 1, 'P': -1})*test_df['lifestyle score']"
   ]
  },
  {
   "cell_type": "code",
   "execution_count": null,
   "id": "ba43ece3",
   "metadata": {},
   "outputs": [],
   "source": [
    "values_df"
   ]
  },
  {
   "cell_type": "code",
   "execution_count": null,
   "id": "531167a2",
   "metadata": {},
   "outputs": [],
   "source": [
    "values_df.to_json('../Resources/test.json')"
   ]
  },
  {
   "cell_type": "code",
   "execution_count": null,
   "id": "070565a2",
   "metadata": {
    "scrolled": false
   },
   "outputs": [],
   "source": [
    "countries_df = pd.read_csv('../Resources/pt-by-country.csv')\n",
    "countries_df.head()"
   ]
  },
  {
   "cell_type": "code",
   "execution_count": null,
   "id": "41cead3d",
   "metadata": {},
   "outputs": [],
   "source": [
    "countries_df = countries_df.loc[countries_df['Country']=='United States',:]\n",
    "countries_df.head()"
   ]
  },
  {
   "cell_type": "code",
   "execution_count": null,
   "id": "c990b75b",
   "metadata": {},
   "outputs": [],
   "source": [
    "pt_usa = []\n",
    "pts = ['ESTJ', 'ESTP', 'ESFJ', 'ESFP', 'ENTJ', 'ENTP', 'ENFJ', 'ENFP', 'ISTJ', 'ISTP', 'ISFJ', 'ISFP', 'INTJ', 'INTP', 'INFJ', 'INFP']\n",
    "apts = countries_df.columns\n",
    "for pt in pts:\n",
    "    ptv = 0\n",
    "    for apt in apts:\n",
    "        if (apt.split('-')[0] == pt):\n",
    "            ptv += countries_df[apt].values[0]\n",
    "    pt_usa.append(ptv)\n",
    "pt_usa"
   ]
  },
  {
   "cell_type": "code",
   "execution_count": null,
   "id": "a5b03a0d",
   "metadata": {},
   "outputs": [],
   "source": [
    "test_df"
   ]
  },
  {
   "cell_type": "code",
   "execution_count": null,
   "id": "1bb60165",
   "metadata": {},
   "outputs": [],
   "source": [
    "test_df['type']=test_df['attribute']+test_df['function 1']+test_df['function 2']+test_df['lifestyle']\n",
    "test_df"
   ]
  },
  {
   "cell_type": "code",
   "execution_count": null,
   "id": "8de9aaa6",
   "metadata": {},
   "outputs": [],
   "source": [
    "pt_ds = []\n",
    "for pt in pts:\n",
    "    pt_ds.append(test_df.loc[test_df['type']==pt,'type'].count()/100)\n",
    "pt_ds"
   ]
  },
  {
   "cell_type": "code",
   "execution_count": null,
   "id": "36d493fc",
   "metadata": {},
   "outputs": [],
   "source": [
    "sum(pt_ds)"
   ]
  },
  {
   "cell_type": "code",
   "execution_count": null,
   "id": "f22f1f12",
   "metadata": {},
   "outputs": [],
   "source": [
    "pt_chi2 = []\n",
    "for ds, usa in zip(pt_ds, pt_usa):\n",
    "    pt_chi2.append((ds-usa)*(ds-usa)/usa)\n",
    "pt_df = pd.DataFrame({'personality_tests':pts, 'class': pt_ds, 'usa': pt_usa, 'chi2': pt_chi2}).T\n",
    "pt_df.columns = pt_df.loc['personality_tests',:]\n",
    "pt_df = pt_df.loc[['class','usa','chi2'],:]\n",
    "pt_df"
   ]
  },
  {
   "cell_type": "code",
   "execution_count": 1,
   "id": "26bf2ae7",
   "metadata": {},
   "outputs": [],
   "source": [
    "from etl import continuous_data_etl, categorical_data_etl"
   ]
  },
  {
   "cell_type": "code",
   "execution_count": null,
   "id": "bbea76db",
   "metadata": {
    "scrolled": true
   },
   "outputs": [],
   "source": [
    "continuous_data_etl('../Resources/test.csv', type='df')"
   ]
  },
  {
   "cell_type": "code",
   "execution_count": null,
   "id": "ef9a2688",
   "metadata": {},
   "outputs": [],
   "source": [
    "dfchi = categorical_data_etl('../Resources/test.csv', '../Resources/pt-by-country.csv', type='df')"
   ]
  },
  {
   "cell_type": "code",
   "execution_count": null,
   "id": "407c7c55",
   "metadata": {},
   "outputs": [],
   "source": [
    "continuous_data_etl('../Resources/test.csv', output_path='../Resources/test.json')"
   ]
  },
  {
   "cell_type": "code",
   "execution_count": null,
   "id": "f63e7f66",
   "metadata": {},
   "outputs": [],
   "source": [
    "categorical_data_etl('../Resources/test.csv', '../Resources/pt-by-country.csv', output_path='../Resources/test2.json')"
   ]
  },
  {
   "cell_type": "code",
   "execution_count": null,
   "id": "3bcf5a99",
   "metadata": {},
   "outputs": [],
   "source": [
    "continuous_data_etl('../Resources/test.csv', output_path='../Resources/continuous-data-test.json')"
   ]
  },
  {
   "cell_type": "code",
   "execution_count": 2,
   "id": "08f9aff8",
   "metadata": {},
   "outputs": [
    {
     "data": {
      "text/html": [
       "<div>\n",
       "<style scoped>\n",
       "    .dataframe tbody tr th:only-of-type {\n",
       "        vertical-align: middle;\n",
       "    }\n",
       "\n",
       "    .dataframe tbody tr th {\n",
       "        vertical-align: top;\n",
       "    }\n",
       "\n",
       "    .dataframe thead th {\n",
       "        text-align: right;\n",
       "    }\n",
       "</style>\n",
       "<table border=\"1\" class=\"dataframe\">\n",
       "  <thead>\n",
       "    <tr style=\"text-align: right;\">\n",
       "      <th></th>\n",
       "      <th>0</th>\n",
       "      <th>1</th>\n",
       "      <th>2</th>\n",
       "      <th>3</th>\n",
       "      <th>4</th>\n",
       "      <th>5</th>\n",
       "      <th>6</th>\n",
       "      <th>7</th>\n",
       "      <th>8</th>\n",
       "      <th>9</th>\n",
       "      <th>10</th>\n",
       "      <th>11</th>\n",
       "      <th>12</th>\n",
       "      <th>13</th>\n",
       "      <th>14</th>\n",
       "      <th>15</th>\n",
       "    </tr>\n",
       "  </thead>\n",
       "  <tbody>\n",
       "    <tr>\n",
       "      <th>personality_type</th>\n",
       "      <td>ESTJ</td>\n",
       "      <td>ESTP</td>\n",
       "      <td>ESFJ</td>\n",
       "      <td>ESFP</td>\n",
       "      <td>ENTJ</td>\n",
       "      <td>ENTP</td>\n",
       "      <td>ENFJ</td>\n",
       "      <td>ENFP</td>\n",
       "      <td>ISTJ</td>\n",
       "      <td>ISTP</td>\n",
       "      <td>ISFJ</td>\n",
       "      <td>ISFP</td>\n",
       "      <td>INTJ</td>\n",
       "      <td>INTP</td>\n",
       "      <td>INFJ</td>\n",
       "      <td>INFP</td>\n",
       "    </tr>\n",
       "    <tr>\n",
       "      <th>class</th>\n",
       "      <td>0.09</td>\n",
       "      <td>0.07</td>\n",
       "      <td>0.06</td>\n",
       "      <td>0.06</td>\n",
       "      <td>0.06</td>\n",
       "      <td>0.03</td>\n",
       "      <td>0.05</td>\n",
       "      <td>0.08</td>\n",
       "      <td>0.08</td>\n",
       "      <td>0.07</td>\n",
       "      <td>0.03</td>\n",
       "      <td>0.07</td>\n",
       "      <td>0.06</td>\n",
       "      <td>0.08</td>\n",
       "      <td>0.04</td>\n",
       "      <td>0.07</td>\n",
       "    </tr>\n",
       "    <tr>\n",
       "      <th>usa</th>\n",
       "      <td>0.038</td>\n",
       "      <td>0.0232</td>\n",
       "      <td>0.0831</td>\n",
       "      <td>0.0479</td>\n",
       "      <td>0.0257</td>\n",
       "      <td>0.0469</td>\n",
       "      <td>0.071</td>\n",
       "      <td>0.1347</td>\n",
       "      <td>0.0356</td>\n",
       "      <td>0.0225</td>\n",
       "      <td>0.0758</td>\n",
       "      <td>0.0515</td>\n",
       "      <td>0.0326</td>\n",
       "      <td>0.0573</td>\n",
       "      <td>0.0755</td>\n",
       "      <td>0.1507</td>\n",
       "    </tr>\n",
       "    <tr>\n",
       "      <th>chi2</th>\n",
       "      <td>0.071158</td>\n",
       "      <td>0.094407</td>\n",
       "      <td>0.006421</td>\n",
       "      <td>0.003057</td>\n",
       "      <td>0.045778</td>\n",
       "      <td>0.00609</td>\n",
       "      <td>0.006211</td>\n",
       "      <td>0.022213</td>\n",
       "      <td>0.055375</td>\n",
       "      <td>0.100278</td>\n",
       "      <td>0.027673</td>\n",
       "      <td>0.006646</td>\n",
       "      <td>0.023029</td>\n",
       "      <td>0.008993</td>\n",
       "      <td>0.016692</td>\n",
       "      <td>0.043215</td>\n",
       "    </tr>\n",
       "  </tbody>\n",
       "</table>\n",
       "</div>"
      ],
      "text/plain": [
       "                        0         1         2         3         4        5   \\\n",
       "personality_type      ESTJ      ESTP      ESFJ      ESFP      ENTJ     ENTP   \n",
       "class                 0.09      0.07      0.06      0.06      0.06     0.03   \n",
       "usa                  0.038    0.0232    0.0831    0.0479    0.0257   0.0469   \n",
       "chi2              0.071158  0.094407  0.006421  0.003057  0.045778  0.00609   \n",
       "\n",
       "                        6         7         8         9         10        11  \\\n",
       "personality_type      ENFJ      ENFP      ISTJ      ISTP      ISFJ      ISFP   \n",
       "class                 0.05      0.08      0.08      0.07      0.03      0.07   \n",
       "usa                  0.071    0.1347    0.0356    0.0225    0.0758    0.0515   \n",
       "chi2              0.006211  0.022213  0.055375  0.100278  0.027673  0.006646   \n",
       "\n",
       "                        12        13        14        15  \n",
       "personality_type      INTJ      INTP      INFJ      INFP  \n",
       "class                 0.06      0.08      0.04      0.07  \n",
       "usa                 0.0326    0.0573    0.0755    0.1507  \n",
       "chi2              0.023029  0.008993  0.016692  0.043215  "
      ]
     },
     "execution_count": 2,
     "metadata": {},
     "output_type": "execute_result"
    }
   ],
   "source": [
    "categorical_data_etl('../Resources/test.csv', '../Resources/country-data.csv', output_path='../Resources/continuous-data-test2.json')"
   ]
  },
  {
   "cell_type": "code",
   "execution_count": null,
   "id": "f13c9db7",
   "metadata": {},
   "outputs": [],
   "source": []
  }
 ],
 "metadata": {
  "kernelspec": {
   "display_name": "Python 3 (ipykernel)",
   "language": "python",
   "name": "python3"
  },
  "language_info": {
   "codemirror_mode": {
    "name": "ipython",
    "version": 3
   },
   "file_extension": ".py",
   "mimetype": "text/x-python",
   "name": "python",
   "nbconvert_exporter": "python",
   "pygments_lexer": "ipython3",
   "version": "3.8.13"
  }
 },
 "nbformat": 4,
 "nbformat_minor": 5
}
